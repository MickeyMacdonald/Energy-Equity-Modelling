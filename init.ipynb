{
 "cells": [
  {
   "cell_type": "markdown",
   "id": "5308c3a0",
   "metadata": {},
   "source": [
    "# Energy Poverty Mapping in Northern Canadian Communities\n",
    "\n",
    "This notebook provides a framework for visualizing and analyzing energy poverty data across northern Canadian communities. The workflow includes data loading, geospatial processing, and interactive mapping.\n",
    "\n",
    "---"
   ]
  },
  {
   "cell_type": "markdown",
   "id": "335b2de2",
   "metadata": {},
   "source": [
    "## Workflow Outline\n",
    "\n",
    "1. **Import Libraries**\n",
    "2. **Load Energy Poverty Data**\n",
    "3. **Load/Prepare Geospatial Data**\n",
    "4. **Merge Data for Mapping**\n",
    "5. **Create Interactive Map**\n",
    "6. **Analysis & Visualization**\n",
    "\n",
    "---"
   ]
  },
  {
   "cell_type": "code",
   "execution_count": 2,
   "id": "f267dd03",
   "metadata": {},
   "outputs": [],
   "source": [
    "import pandas as pd\n",
    "import geopandas as gpd\n",
    "import matplotlib.pyplot as plt\n",
    "import folium\n",
    "import os\n",
    "import glob as glob\n",
    "\n",
    "# Display settings for pandas\n",
    "display.max_columns = 100"
   ]
  },
  {
   "cell_type": "markdown",
   "id": "e4799470",
   "metadata": {},
   "source": [
    "### 1. Load Energy Poverty Data\n",
    "\n",
    "> **Upload your energy poverty dataset (CSV, Excel, etc.) and specify the file path below.**"
   ]
  },
  {
   "cell_type": "code",
   "execution_count": 3,
   "id": "1324e209",
   "metadata": {},
   "outputs": [
    {
     "name": "stdout",
     "output_type": "stream",
     "text": [
      "Loaded 1 CSV files.\n"
     ]
    },
    {
     "data": {
      "application/vnd.microsoft.datawrangler.viewer.v0+json": {
       "columns": [
        {
         "name": "index",
         "rawType": "int64",
         "type": "integer"
        },
        {
         "name": "community",
         "rawType": "object",
         "type": "string"
        },
        {
         "name": "year",
         "rawType": "int64",
         "type": "integer"
        },
        {
         "name": "households",
         "rawType": "int64",
         "type": "integer"
        },
        {
         "name": "energy_poverty_rate",
         "rawType": "float64",
         "type": "float"
        }
       ],
       "ref": "3eeb76d3-cf37-44cf-9a56-bdd70e80ddb4",
       "rows": [
        [
         "0",
         "Iqaluit",
         "2023",
         "1200",
         "0.32"
        ],
        [
         "1",
         "Rankin Inlet",
         "2023",
         "400",
         "0.28"
        ],
        [
         "2",
         "Arviat",
         "2023",
         "350",
         "0.35"
        ],
        [
         "3",
         "Cambridge Bay",
         "2023",
         "300",
         "0.3"
        ],
        [
         "4",
         "Pangnirtung",
         "2023",
         "250",
         "0.4"
        ]
       ],
       "shape": {
        "columns": 4,
        "rows": 5
       }
      },
      "text/html": [
       "<div>\n",
       "<style scoped>\n",
       "    .dataframe tbody tr th:only-of-type {\n",
       "        vertical-align: middle;\n",
       "    }\n",
       "\n",
       "    .dataframe tbody tr th {\n",
       "        vertical-align: top;\n",
       "    }\n",
       "\n",
       "    .dataframe thead th {\n",
       "        text-align: right;\n",
       "    }\n",
       "</style>\n",
       "<table border=\"1\" class=\"dataframe\">\n",
       "  <thead>\n",
       "    <tr style=\"text-align: right;\">\n",
       "      <th></th>\n",
       "      <th>community</th>\n",
       "      <th>year</th>\n",
       "      <th>households</th>\n",
       "      <th>energy_poverty_rate</th>\n",
       "    </tr>\n",
       "  </thead>\n",
       "  <tbody>\n",
       "    <tr>\n",
       "      <th>0</th>\n",
       "      <td>Iqaluit</td>\n",
       "      <td>2023</td>\n",
       "      <td>1200</td>\n",
       "      <td>0.32</td>\n",
       "    </tr>\n",
       "    <tr>\n",
       "      <th>1</th>\n",
       "      <td>Rankin Inlet</td>\n",
       "      <td>2023</td>\n",
       "      <td>400</td>\n",
       "      <td>0.28</td>\n",
       "    </tr>\n",
       "    <tr>\n",
       "      <th>2</th>\n",
       "      <td>Arviat</td>\n",
       "      <td>2023</td>\n",
       "      <td>350</td>\n",
       "      <td>0.35</td>\n",
       "    </tr>\n",
       "    <tr>\n",
       "      <th>3</th>\n",
       "      <td>Cambridge Bay</td>\n",
       "      <td>2023</td>\n",
       "      <td>300</td>\n",
       "      <td>0.30</td>\n",
       "    </tr>\n",
       "    <tr>\n",
       "      <th>4</th>\n",
       "      <td>Pangnirtung</td>\n",
       "      <td>2023</td>\n",
       "      <td>250</td>\n",
       "      <td>0.40</td>\n",
       "    </tr>\n",
       "  </tbody>\n",
       "</table>\n",
       "</div>"
      ],
      "text/plain": [
       "       community  year  households  energy_poverty_rate\n",
       "0        Iqaluit  2023        1200                 0.32\n",
       "1   Rankin Inlet  2023         400                 0.28\n",
       "2         Arviat  2023         350                 0.35\n",
       "3  Cambridge Bay  2023         300                 0.30\n",
       "4    Pangnirtung  2023         250                 0.40"
      ]
     },
     "execution_count": 3,
     "metadata": {},
     "output_type": "execute_result"
    }
   ],
   "source": [
    "\n",
    "# Path to the nested folder containing CSV files\n",
    "data_folder = 'data/energy_poverty'\n",
    "\n",
    "# Find all CSV files in the folder (including subfolders)\n",
    "csv_files = glob.glob(os.path.join(data_folder, '**', '*.csv'), recursive=True)\n",
    "\n",
    "# Read and concatenate all CSVs\n",
    "df_list = [pd.read_csv(f) for f in csv_files]\n",
    "energy_poverty_df = pd.concat(df_list, ignore_index=True)\n",
    "\n",
    "print(f\"Loaded {len(csv_files)} CSV files.\")\n",
    "energy_poverty_df.head()"
   ]
  },
  {
   "cell_type": "code",
   "execution_count": 4,
   "id": "bc5690ce",
   "metadata": {},
   "outputs": [
    {
     "name": "stdout",
     "output_type": "stream",
     "text": [
      "Combined CSV written to: data/energy_poverty/combined_energy_poverty.csv\n"
     ]
    }
   ],
   "source": [
    "# Write the combined DataFrame to a new CSV file in the nested folder\n",
    "output_path = os.path.join(data_folder, 'combined_energy_poverty.csv')\n",
    "energy_poverty_df.to_csv(output_path, index=False)\n",
    "print(f\"Combined CSV written to: {output_path}\")"
   ]
  },
  {
   "cell_type": "code",
   "execution_count": 8,
   "id": "61b04b7a",
   "metadata": {},
   "outputs": [
    {
     "ename": "NameError",
     "evalue": "name 'df' is not defined",
     "output_type": "error",
     "traceback": [
      "\u001b[31m---------------------------------------------------------------------------\u001b[39m",
      "\u001b[31mNameError\u001b[39m                                 Traceback (most recent call last)",
      "\u001b[36mCell\u001b[39m\u001b[36m \u001b[39m\u001b[32mIn[8]\u001b[39m\u001b[32m, line 9\u001b[39m\n\u001b[32m      2\u001b[39m data_path = \u001b[33m'\u001b[39m\u001b[33mcombined_energy_poverty.csv\u001b[39m\u001b[33m'\u001b[39m  \u001b[38;5;66;03m# Update this to your file\u001b[39;00m\n\u001b[32m      4\u001b[39m \u001b[38;5;66;03m# Uncomment the appropriate line based on your file type:\u001b[39;00m\n\u001b[32m      5\u001b[39m \u001b[38;5;66;03m# df = pd.read_csv(data_path)\u001b[39;00m\n\u001b[32m      6\u001b[39m \u001b[38;5;66;03m# df = pd.read_excel(data_path)\u001b[39;00m\n\u001b[32m      7\u001b[39m \n\u001b[32m      8\u001b[39m \u001b[38;5;66;03m# Display the first few rows\u001b[39;00m\n\u001b[32m----> \u001b[39m\u001b[32m9\u001b[39m \u001b[43mdf\u001b[49m.head()\n",
      "\u001b[31mNameError\u001b[39m: name 'df' is not defined"
     ]
    }
   ],
   "source": [
    "# Example: Load energy poverty data (update the file path as needed)\n",
    "data_path = 'combined_energy_poverty.csv'  # Update this to your file\n",
    "\n",
    "# Uncomment the appropriate line based on your file type:\n",
    "# df = pd.read_csv(data_path)\n",
    "# df = pd.read_excel(data_path)\n",
    "\n",
    "# Display the first few rows\n",
    "df.head()"
   ]
  },
  {
   "cell_type": "markdown",
   "id": "ff6e4cc5",
   "metadata": {},
   "source": [
    "### 2. Load or Prepare Geospatial Data\n",
    "\n",
    "> **Upload a shapefile or GeoJSON of northern Canadian communities, or use a public dataset. Specify the file path below.**"
   ]
  },
  {
   "cell_type": "code",
   "execution_count": null,
   "id": "4721579b",
   "metadata": {},
   "outputs": [],
   "source": [
    "# Example: Load geospatial data (update the file path as needed)\n",
    "geodata_path = 'northern_communities.geojson'  # Update this to your file\n",
    "\n",
    "gdf = gpd.read_file(geodata_path)\n",
    "gdf.head()"
   ]
  },
  {
   "cell_type": "markdown",
   "id": "3a07d77e",
   "metadata": {},
   "source": [
    "### 3. Merge Data for Mapping\n",
    "\n",
    "> **Join the energy poverty data with the geospatial data using a common key (e.g., community name or code).**"
   ]
  },
  {
   "cell_type": "code",
   "execution_count": null,
   "id": "8a734468",
   "metadata": {},
   "outputs": [],
   "source": [
    "# Example: Merge dataframes on a common key (update 'community' to your actual key)\n",
    "# merged_gdf = gdf.merge(df, left_on='community', right_on='community')\n",
    "# merged_gdf.head()"
   ]
  },
  {
   "cell_type": "markdown",
   "id": "cdfbd546",
   "metadata": {},
   "source": [
    "### 4. Create Interactive Map\n",
    "\n",
    "> **Visualize the merged data on an interactive map using Folium.**"
   ]
  },
  {
   "cell_type": "code",
   "execution_count": null,
   "id": "685d96d2",
   "metadata": {},
   "outputs": [],
   "source": [
    "# Example: Create a Folium map (update 'latitude' and 'longitude' as needed)\n",
    "# If your geodata is in a GeoDataFrame, you can use centroid coordinates for points\n",
    "\n",
    "# m = folium.Map(location=[60, -100], zoom_start=4)\n",
    "# for _, row in merged_gdf.iterrows():\n",
    "#     folium.CircleMarker(\n",
    "#         location=[row['geometry'].centroid.y, row['geometry'].centroid.x],\n",
    "#         radius=5,\n",
    "#         popup=f\"{row['community']}: {row['energy_poverty_metric']}\",\n",
    "#         color='blue',\n",
    "#         fill=True,\n",
    "#         fill_opacity=0.7\n",
    "#     ).add_to(m)\n",
    "# m"
   ]
  },
  {
   "cell_type": "markdown",
   "id": "ac50bcad",
   "metadata": {},
   "source": [
    "### 5. Analysis & Visualization\n",
    "\n",
    "> **Add further analysis, charts, or export options as needed.**\n",
    "\n",
    "- Plot summary statistics\n",
    "- Create choropleth maps\n",
    "- Export results to CSV/GeoJSON\n",
    "- Add custom map layers or popups"
   ]
  }
 ],
 "metadata": {
  "kernelspec": {
   "display_name": ".venv",
   "language": "python",
   "name": "python3"
  },
  "language_info": {
   "codemirror_mode": {
    "name": "ipython",
    "version": 3
   },
   "file_extension": ".py",
   "mimetype": "text/x-python",
   "name": "python",
   "nbconvert_exporter": "python",
   "pygments_lexer": "ipython3",
   "version": "3.13.3"
  }
 },
 "nbformat": 4,
 "nbformat_minor": 5
}
